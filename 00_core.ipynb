{
 "cells": [
  {
   "cell_type": "code",
   "execution_count": null,
   "metadata": {},
   "outputs": [],
   "source": [
    "# hide\n",
    "%load_ext autoreload\n",
    "%autoreload 2"
   ]
  },
  {
   "cell_type": "code",
   "execution_count": null,
   "metadata": {},
   "outputs": [],
   "source": [
    "# default_exp core"
   ]
  },
  {
   "cell_type": "markdown",
   "metadata": {},
   "source": [
    "# runit\n",
    "\n",
    "> Ensure consistent use of numbers with units across projects.\n"
   ]
  },
  {
   "cell_type": "code",
   "execution_count": null,
   "metadata": {},
   "outputs": [],
   "source": [
    "# hide\n",
    "from fastcore.test import *\n",
    "from nbdev.showdoc import *"
   ]
  },
  {
   "cell_type": "code",
   "execution_count": null,
   "metadata": {},
   "outputs": [],
   "source": [
    "# export\n",
    "from typing import Dict, NamedTuple\n",
    "\n",
    "import pint"
   ]
  },
  {
   "cell_type": "code",
   "execution_count": null,
   "metadata": {},
   "outputs": [],
   "source": [
    "# export\n",
    "# default system of units used throughout the application\n",
    "UREG = pint.UnitRegistry(system=\"US\")\n",
    "\n",
    "# default unit of weight used for reporting weights\n",
    "WEIGHT_UNIT = UREG.pound\n",
    "\n",
    "Quantity = pint.Quantity\n",
    "Unit = pint.Unit"
   ]
  },
  {
   "cell_type": "code",
   "execution_count": null,
   "metadata": {},
   "outputs": [],
   "source": [
    "# export\n",
    "def unit(sunit: str) -> Unit:\n",
    "    \"\"\"Convert the string value to a unit.\"\"\"\n",
    "    return UREG(sunit)"
   ]
  },
  {
   "cell_type": "code",
   "execution_count": null,
   "metadata": {},
   "outputs": [],
   "source": [
    "test_eq(unit(\"foot\").units, \"foot\")"
   ]
  },
  {
   "cell_type": "code",
   "execution_count": null,
   "metadata": {},
   "outputs": [],
   "source": [
    "# export\n",
    "def with_unit(value: float, sunit: str) -> Quantity:\n",
    "    \"\"\"Attach the given unit to the value.\"\"\"\n",
    "    return value * unit(sunit)"
   ]
  },
  {
   "cell_type": "code",
   "execution_count": null,
   "metadata": {},
   "outputs": [],
   "source": [
    "ten_tons = with_unit(10, \"ton\")\n",
    "test_eq(10, ten_tons.magnitude)\n",
    "test_eq(\"ton\", ten_tons.units)"
   ]
  },
  {
   "cell_type": "code",
   "execution_count": null,
   "metadata": {},
   "outputs": [],
   "source": [
    "# export\n",
    "def to_dimensions(unit: Unit) -> Dict[str, int]:\n",
    "    \"\"\"Return the dimensions of the unit.\"\"\"\n",
    "    return dict(unit.dimensionality)"
   ]
  },
  {
   "cell_type": "code",
   "execution_count": null,
   "metadata": {},
   "outputs": [],
   "source": [
    "test_eq(to_dimensions(unit(\"ton\")), {\"[mass]\": 1})"
   ]
  },
  {
   "cell_type": "code",
   "execution_count": null,
   "metadata": {},
   "outputs": [],
   "source": [
    "# export\n",
    "class SplitQuantity(NamedTuple):\n",
    "    \"\"\"A quantity as a dimensionless number and unit description.\"\"\"\n",
    "\n",
    "    magnitude: float\n",
    "    sunit: str"
   ]
  },
  {
   "cell_type": "code",
   "execution_count": null,
   "metadata": {},
   "outputs": [],
   "source": [
    "# export\n",
    "def split(quantity: Quantity) -> SplitQuantity:\n",
    "    \"\"\"Split the number into its magnitude and unit.\"\"\"\n",
    "    return SplitQuantity(magnitude=quantity.magnitude, sunit=str(quantity.units))"
   ]
  },
  {
   "cell_type": "code",
   "execution_count": null,
   "metadata": {},
   "outputs": [],
   "source": [
    "test_eq(split(with_unit(320, \"pound\")), SplitQuantity(magnitude=320, sunit=\"pound\"))"
   ]
  },
  {
   "cell_type": "code",
   "execution_count": null,
   "metadata": {},
   "outputs": [],
   "source": [
    "# export\n",
    "def to(quantity: Quantity, sunit: str) -> Quantity:\n",
    "    \"\"\"Convert the quantity to the given units.\"\"\"\n",
    "    return quantity.to(unit(sunit))"
   ]
  },
  {
   "cell_type": "code",
   "execution_count": null,
   "metadata": {},
   "outputs": [],
   "source": [
    "pounds = with_unit(4000, \"pound\")\n",
    "as_tons = to(pounds, sunit=\"ton\")\n",
    "parts = split(as_tons)\n",
    "test_close(parts.magnitude, 2.0, eps=1e-12)\n",
    "test_eq(parts.sunit, \"ton\")"
   ]
  },
  {
   "cell_type": "code",
   "execution_count": null,
   "metadata": {},
   "outputs": [],
   "source": [
    "# export\n",
    "def ton(value: float) -> Quantity:\n",
    "    \"\"\"Cast the value as a weight in tons.\"\"\"\n",
    "    return with_unit(value=value, sunit=\"ton\")"
   ]
  },
  {
   "cell_type": "code",
   "execution_count": null,
   "metadata": {},
   "outputs": [],
   "source": [
    "sixteen_tons = ton(16.0)\n",
    "parts = split(sixteen_tons)\n",
    "test_eq(parts.magnitude, 16.0)\n",
    "test_eq(parts.sunit, \"ton\")"
   ]
  },
  {
   "cell_type": "code",
   "execution_count": null,
   "metadata": {},
   "outputs": [],
   "source": [
    "# export\n",
    "def pound(value: float) -> Quantity:\n",
    "    \"\"\"Cast the value as a weight in pounds.\"\"\"\n",
    "    return with_unit(value=value, sunit=\"pound\")"
   ]
  },
  {
   "cell_type": "code",
   "execution_count": null,
   "metadata": {},
   "outputs": [],
   "source": [
    "pounds = pound(20000)\n",
    "parts = split(pounds)\n",
    "test_eq(parts.magnitude, 20000.0)\n",
    "test_eq(parts.sunit, \"pound\")"
   ]
  },
  {
   "cell_type": "code",
   "execution_count": null,
   "metadata": {},
   "outputs": [
    {
     "name": "stdout",
     "output_type": "stream",
     "text": [
      "Converted 00_core.ipynb.\n",
      "Converted index.ipynb.\n"
     ]
    }
   ],
   "source": [
    "# hide\n",
    "from nbdev.export import notebook2script\n",
    "\n",
    "notebook2script()"
   ]
  }
 ],
 "metadata": {
  "kernelspec": {
   "display_name": "Python 3 (ipykernel)",
   "language": "python",
   "name": "python3"
  }
 },
 "nbformat": 4,
 "nbformat_minor": 4
}
